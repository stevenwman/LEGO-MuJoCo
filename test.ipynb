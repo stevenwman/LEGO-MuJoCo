{
 "cells": [
  {
   "cell_type": "code",
   "execution_count": 2,
   "metadata": {},
   "outputs": [],
   "source": [
    "if []: print('[] is True')"
   ]
  },
  {
   "cell_type": "code",
   "execution_count": 26,
   "metadata": {},
   "outputs": [],
   "source": [
    "! openscad -o robots/duplo_hip_offset_mjcf/part_2_ascii.stl part_2.scad\n",
    "\n",
    "from stl import mesh\n",
    "import stl\n",
    "\n",
    "# Load ASCII STL file\n",
    "ascii_mesh = mesh.Mesh.from_file('robots/duplo_hip_offset_mjcf/part_2_ascii.stl')\n",
    "\n",
    "# Save as Binary STL\n",
    "ascii_mesh.save('robots/duplo_hip_offset_mjcf/part_2.stl', mode=stl.Mode.BINARY)\n"
   ]
  },
  {
   "cell_type": "code",
   "execution_count": 20,
   "metadata": {},
   "outputs": [
    {
     "data": {
      "text/plain": [
       "False"
      ]
     },
     "execution_count": 20,
     "metadata": {},
     "output_type": "execute_result"
    }
   ],
   "source": [
    "d = {\"1\" : 2}\n",
    "\n",
    "2 in d.keys()"
   ]
  },
  {
   "cell_type": "code",
   "execution_count": 16,
   "metadata": {},
   "outputs": [
    {
     "name": "stdout",
     "output_type": "stream",
     "text": [
      "[array([0, 2, 3, 4])]\n",
      "[array([0, 2, 3, 4]), array([1, 2, 3, 4])]\n",
      "[array([0, 2, 3, 4]), array([1, 2, 3, 4]), array([2, 2, 3, 4])]\n",
      "[array([0, 2, 3, 4]), array([1, 2, 3, 4]), array([2, 2, 3, 4]), array([3, 2, 3, 4])]\n",
      "[array([0, 2, 3, 4]), array([1, 2, 3, 4]), array([2, 2, 3, 4]), array([3, 2, 3, 4]), array([4, 2, 3, 4])]\n",
      "[array([0, 2, 3, 4]), array([1, 2, 3, 4]), array([2, 2, 3, 4]), array([3, 2, 3, 4]), array([4, 2, 3, 4]), array([5, 2, 3, 4])]\n",
      "[array([0, 2, 3, 4]), array([1, 2, 3, 4]), array([2, 2, 3, 4]), array([3, 2, 3, 4]), array([4, 2, 3, 4]), array([5, 2, 3, 4]), array([6, 2, 3, 4])]\n",
      "[array([0, 2, 3, 4]), array([1, 2, 3, 4]), array([2, 2, 3, 4]), array([3, 2, 3, 4]), array([4, 2, 3, 4]), array([5, 2, 3, 4]), array([6, 2, 3, 4]), array([7, 2, 3, 4])]\n",
      "[array([0, 2, 3, 4]), array([1, 2, 3, 4]), array([2, 2, 3, 4]), array([3, 2, 3, 4]), array([4, 2, 3, 4]), array([5, 2, 3, 4]), array([6, 2, 3, 4]), array([7, 2, 3, 4]), array([8, 2, 3, 4])]\n",
      "[array([0, 2, 3, 4]), array([1, 2, 3, 4]), array([2, 2, 3, 4]), array([3, 2, 3, 4]), array([4, 2, 3, 4]), array([5, 2, 3, 4]), array([6, 2, 3, 4]), array([7, 2, 3, 4]), array([8, 2, 3, 4]), array([9, 2, 3, 4])]\n",
      "[4.5 2.  3.  4. ]\n"
     ]
    }
   ],
   "source": [
    "import numpy as np\n",
    "\n",
    "# create empty list, satck 4 elements np array 100 times, find the mean\n",
    "\n",
    "a = []\n",
    "for i in range(10):\n",
    "    a.append(np.array([i,2,3,4]))\n",
    "    print(a)\n",
    "print(np.mean(a, axis=0))\n",
    "\n"
   ]
  },
  {
   "cell_type": "code",
   "execution_count": 6,
   "metadata": {},
   "outputs": [
    {
     "name": "stdout",
     "output_type": "stream",
     "text": [
      "Original quaternion: [ 9.96563288e-01 -8.25810815e-02  4.39900536e-05  5.54941396e-05]\n",
      "Rotated quaternion: [-4.39900536e-05  5.54941396e-05  9.96563288e-01  8.25810815e-02]\n"
     ]
    }
   ],
   "source": [
    "import numpy as np\n",
    "import mujoco\n",
    "\n",
    "# Original quaternion (MuJoCo format)\n",
    "q_orig = np.array([9.96563288e-01, -8.25810815e-02,  4.39900536e-05,  5.54941396e-05])\n",
    "\n",
    "# Quaternion for 180-degree rotation about Z-axis\n",
    "q_rot = np.array([0, 0, 1, 0])\n",
    "\n",
    "# Compute new quaternion using quaternion multiplication\n",
    "def quat_multiply(q1, q2):\n",
    "    w1, x1, y1, z1 = q1\n",
    "    w2, x2, y2, z2 = q2\n",
    "    return np.array([\n",
    "        w1 * w2 - x1 * x2 - y1 * y2 - z1 * z2,\n",
    "        w1 * x2 + x1 * w2 + y1 * z2 - z1 * y2,\n",
    "        w1 * y2 - x1 * z2 + y1 * w2 + z1 * x2,\n",
    "        w1 * z2 + x1 * y2 - y1 * x2 + z1 * w2\n",
    "    ])\n",
    "\n",
    "q_new = quat_multiply(q_rot, q_orig)\n",
    "\n",
    "print('Original quaternion:', q_orig)\n",
    "print('Rotated quaternion:', q_new)"
   ]
  },
  {
   "cell_type": "code",
   "execution_count": 3,
   "metadata": {},
   "outputs": [
    {
     "data": {
      "text/plain": [
       "False"
      ]
     },
     "execution_count": 3,
     "metadata": {},
     "output_type": "execute_result"
    }
   ],
   "source": [
    "a = None\n",
    "\n",
    "a is not None"
   ]
  },
  {
   "cell_type": "code",
   "execution_count": null,
   "metadata": {},
   "outputs": [],
   "source": [
    "import xml.etree.ElementTree as ET\n",
    "\n",
    "scene_path = \"robots/duplo_ballfeet_mjcf/scene.xml\"\n",
    "scene_tree = ET.parse(scene_path)\n",
    "scene_root = scene_tree.getroot()\n",
    "\n",
    "# extract the file value of include tag\n",
    "model_subpath = scene_root.find(\"include\").get(\"file\")\n",
    "# get directory from scene path\n",
    "scene_dir = \"/\".join(scene_path.split(\"/\")[:-1])\n",
    "model_path = f\"{scene_dir}/{model_subpath}\"\n",
    "\n",
    "model_tree = ET.parse(model_path)\n",
    "model_root = model_tree.getroot()\n",
    "\n",
    "# loop through every possible level to find geom tag and make dict of geom_name:mass\n",
    "mass_dict, mass_scale_dict = {}, {}\n",
    "worldbody = model_root.find('worldbody')\n",
    "assert worldbody is not None, \"worldbody tag not found\"\n",
    "geoms = worldbody.findall('.//geom')\n",
    "for geom in geoms:\n",
    "    mass = geom.get('mass')\n",
    "    assert mass is not None, \"mass attribute not found\"\n",
    "    name = geom.get('mesh')\n",
    "    mass_dict[name] = float(mass)\n",
    "    mass_scale_dict[name] = 2\n",
    "\n",
    "print(mass_dict)  \n",
    "\n",
    "for k,v in mass_scale_dict.items():\n",
    "    mass_dict[k] *= v\n",
    "\n",
    "print(mass_dict)\n",
    "\n",
    "# update the mass attribute of geom tag\n",
    "for geom in geoms:\n",
    "    name = geom.get('mesh')\n",
    "    geom.set('mass', str(mass_dict[name]))\n",
    "\n",
    "print(ET.tostring(model_root, encoding='unicode'))\n"
   ]
  },
  {
   "cell_type": "code",
   "execution_count": 12,
   "metadata": {},
   "outputs": [
    {
     "name": "stdout",
     "output_type": "stream",
     "text": [
      "deque([1, 5, 6], maxlen=10)\n",
      "deque([1, 5, 6, 0], maxlen=10)\n",
      "deque([1, 5, 6, 0, 1], maxlen=10)\n",
      "deque([1, 5, 6, 0, 1, 2], maxlen=10)\n",
      "deque([1, 5, 6, 0, 1, 2, 3], maxlen=10)\n",
      "deque([1, 5, 6, 0, 1, 2, 3, 4], maxlen=10)\n",
      "deque([1, 5, 6, 0, 1, 2, 3, 4, 5], maxlen=10)\n",
      "deque([1, 5, 6, 0, 1, 2, 3, 4, 5, 6], maxlen=10)\n",
      "deque([5, 6, 0, 1, 2, 3, 4, 5, 6, 7], maxlen=10)\n",
      "deque([6, 0, 1, 2, 3, 4, 5, 6, 7, 8], maxlen=10)\n",
      "deque([0, 1, 2, 3, 4, 5, 6, 7, 8, 9], maxlen=10)\n",
      "deque([1, 2, 3, 4, 5, 6, 7, 8, 9, 10], maxlen=10)\n",
      "deque([2, 3, 4, 5, 6, 7, 8, 9, 10, 11], maxlen=10)\n",
      "deque([3, 4, 5, 6, 7, 8, 9, 10, 11, 12], maxlen=10)\n",
      "deque([4, 5, 6, 7, 8, 9, 10, 11, 12, 13], maxlen=10)\n",
      "deque([5, 6, 7, 8, 9, 10, 11, 12, 13, 14], maxlen=10)\n",
      "deque([6, 7, 8, 9, 10, 11, 12, 13, 14, 15], maxlen=10)\n",
      "deque([7, 8, 9, 10, 11, 12, 13, 14, 15, 16], maxlen=10)\n",
      "deque([8, 9, 10, 11, 12, 13, 14, 15, 16, 17], maxlen=10)\n",
      "deque([9, 10, 11, 12, 13, 14, 15, 16, 17, 18], maxlen=10)\n",
      "deque([10, 11, 12, 13, 14, 15, 16, 17, 18, 19], maxlen=10)\n",
      "10\n",
      "11\n"
     ]
    }
   ],
   "source": [
    "from collections import deque\n",
    "\n",
    "queue = deque([1],maxlen=10)  # Fixed-size queue\n",
    "\n",
    "# Enqueue elements (auto-removes oldest when full)\n",
    "queue.append(5)  \n",
    "queue.append(6)\n",
    "print(queue)  # deque([5, 6], maxlen=10)\n",
    "\n",
    "for i in range(20):\n",
    "    queue.append(i)\n",
    "    print(queue)\n",
    "\n",
    "  # deque([1, 2, 3, 4, 5, 6, 7, 8, 9], maxlen=10)\n",
    "print(queue.popleft())\n",
    "print(queue[0])\n"
   ]
  },
  {
   "cell_type": "code",
   "execution_count": 3,
   "metadata": {},
   "outputs": [],
   "source": [
    "dic = {}\n",
    "\n",
    "for k,v in dic.items():\n",
    "    print(\"hi\")"
   ]
  },
  {
   "cell_type": "code",
   "execution_count": 1,
   "metadata": {},
   "outputs": [
    {
     "name": "stdout",
     "output_type": "stream",
     "text": [
      "{'battery': 0.73, 'part_1': 0.63, 'leg': 0.25, 'arm': 0.2, 'hip': 0.2}\n",
      "{'battery': 1.46, 'part_1': 1.26, 'leg': 0.5, 'arm': 0.4, 'hip': 0.4}\n"
     ]
    }
   ],
   "source": [
    "from xml_handler import *\n",
    "\n",
    "scene_path = \"robots/duplo_ballfeet_mjcf/scene.xml\"\n",
    "model_path = scene_path_to_robot_path(scene_path)\n",
    "model_tree = ET.parse(model_path)\n",
    "model_root = model_tree.getroot()\n",
    "mass_dict, mass_scale_dict = get_mass_of_geoms(model_root)\n",
    "\n",
    "print(mass_dict)\n",
    "\n",
    "apply_mass_scale(model_root, mass_dict, mass_scale_dict)\n",
    "\n",
    "print(mass_dict)"
   ]
  },
  {
   "cell_type": "code",
   "execution_count": 5,
   "metadata": {},
   "outputs": [],
   "source": [
    "if None: print('h')"
   ]
  },
  {
   "cell_type": "code",
   "execution_count": 6,
   "metadata": {},
   "outputs": [
    {
     "name": "stdout",
     "output_type": "stream",
     "text": [
      "okok2\n"
     ]
    }
   ],
   "source": [
    "v1= \"ok\"\n",
    "v2 = \"ok2\"\n",
    "\n",
    "v3 = (f\"{v1}\"\n",
    "      f\"{v2}\")\n",
    "\n",
    "print(v3)"
   ]
  },
  {
   "cell_type": "code",
   "execution_count": 4,
   "metadata": {},
   "outputs": [
    {
     "data": {
      "text/plain": [
       "0.6280357421873496"
      ]
     },
     "execution_count": 4,
     "metadata": {},
     "output_type": "execute_result"
    }
   ],
   "source": [
    "np.sqrt(9.81/0.63) / (2*np.pi)"
   ]
  },
  {
   "cell_type": "code",
   "execution_count": 2,
   "metadata": {},
   "outputs": [
    {
     "name": "stdout",
     "output_type": "stream",
     "text": [
      "0 1 2\n",
      "1 3 4\n",
      "2 5 6\n"
     ]
    }
   ],
   "source": [
    "l = []\n",
    "l.append((1,2))\n",
    "l.append((3,4))\n",
    "l.append((5,6))\n",
    "\n",
    "for i, (j, k) in enumerate(l):\n",
    "    print(i, j, k)"
   ]
  },
  {
   "cell_type": "code",
   "execution_count": 4,
   "metadata": {},
   "outputs": [
    {
     "name": "stdout",
     "output_type": "stream",
     "text": [
      "{'b', 'a'}\n"
     ]
    }
   ],
   "source": [
    "dict = {\"a\" : 1, \"b\" : 2}\n",
    "\n",
    "print(set(dict.keys()))"
   ]
  },
  {
   "cell_type": "code",
   "execution_count": 4,
   "metadata": {},
   "outputs": [
    {
     "name": "stdout",
     "output_type": "stream",
     "text": [
      "{'a': 1, 'b': 2, 'c': 5}\n"
     ]
    }
   ],
   "source": [
    "dict['c'] = 5\n",
    "\n",
    "print(dict)"
   ]
  },
  {
   "cell_type": "code",
   "execution_count": 3,
   "metadata": {},
   "outputs": [
    {
     "ename": "TypeError",
     "evalue": "unsupported operand type(s) for +: 'set' and 'set'",
     "output_type": "error",
     "traceback": [
      "\u001b[0;31m---------------------------------------------------------------------------\u001b[0m",
      "\u001b[0;31mTypeError\u001b[0m                                 Traceback (most recent call last)",
      "Cell \u001b[0;32mIn[3], line 4\u001b[0m\n\u001b[1;32m      1\u001b[0m tracking_attr \u001b[38;5;241m=\u001b[39m {\u001b[38;5;124m\"\u001b[39m\u001b[38;5;124mtype\u001b[39m\u001b[38;5;124m\"\u001b[39m, \u001b[38;5;124m\"\u001b[39m\u001b[38;5;124mtrackbodyid\u001b[39m\u001b[38;5;124m\"\u001b[39m}\n\u001b[0;32m----> 4\u001b[0m \u001b[38;5;28;01mfor\u001b[39;00m i \u001b[38;5;129;01min\u001b[39;00m \u001b[43mtracking_attr\u001b[49m\u001b[43m \u001b[49m\u001b[38;5;241;43m+\u001b[39;49m\u001b[43m \u001b[49m\u001b[43m{\u001b[49m\u001b[38;5;124;43m\"\u001b[39;49m\u001b[38;5;124;43ma\u001b[39;49m\u001b[38;5;124;43m\"\u001b[39;49m\u001b[43m}\u001b[49m:\n\u001b[1;32m      5\u001b[0m     \u001b[38;5;28mprint\u001b[39m(i)\n",
      "\u001b[0;31mTypeError\u001b[0m: unsupported operand type(s) for +: 'set' and 'set'"
     ]
    }
   ],
   "source": [
    "tracking_attr = {\"type\", \"trackbodyid\"}\n",
    "\n",
    "\n",
    "for i in tracking_attr + {\"a\"}:\n",
    "    print(i)"
   ]
  },
  {
   "cell_type": "code",
   "execution_count": null,
   "metadata": {},
   "outputs": [],
   "source": []
  }
 ],
 "metadata": {
  "kernelspec": {
   "display_name": "py310",
   "language": "python",
   "name": "python3"
  },
  "language_info": {
   "codemirror_mode": {
    "name": "ipython",
    "version": 3
   },
   "file_extension": ".py",
   "mimetype": "text/x-python",
   "name": "python",
   "nbconvert_exporter": "python",
   "pygments_lexer": "ipython3",
   "version": "3.10.16"
  }
 },
 "nbformat": 4,
 "nbformat_minor": 2
}
